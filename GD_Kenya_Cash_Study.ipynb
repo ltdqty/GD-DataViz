{
 "cells": [
  {
   "cell_type": "code",
   "execution_count": 1,
   "id": "16d3dc92",
   "metadata": {},
   "outputs": [],
   "source": [
    "### Give Directly (GD) -- Data Viz Example\n",
    "## jondlesko (ltdqty)\n",
    "# Last Updated: 7/4/2025\n",
    "\n",
    "# Source: https://dataverse.harvard.edu/dataset.xhtml?persistentId=doi%3A10.7910/DVN/M2GAZN\n",
    "# Title: Replication Data for The Short-Term Impact Of Unconditional Cash Transfers To The Poor: Experimental Evidence From Kenya\n",
    "# Authors: Haushofer, Johannes and Shapiro, Jeremy\n",
    "\n",
    "# Citation: Haushofer, Johannes; Shapiro, Jeremy, 2017, \"Replication Data for: The Short-Term Impact Of Unconditional Cash Transfers To The Poor: \n",
    "# Experimental Evidence From Kenya\", https://doi.org/10.7910/DVN/M2GAZN, Harvard Dataverse, V2, UNF:6:eB/A7wOcFTso1/ckVxjV3w== [fileUNF]"
   ]
  },
  {
   "cell_type": "code",
   "execution_count": null,
   "id": "f9b0bc51",
   "metadata": {},
   "outputs": [],
   "source": [
    "## libraries\n",
    "\n",
    "import pandas as pd\n",
    "\n",
    "import numpy as np\n",
    "\n",
    "from IPython.display import display, HTML\n",
    "\n",
    "import plotly.express as px\n",
    "\n",
    "import difflib\n",
    "\n",
    "from scipy.stats import norm\n",
    "\n",
    "import kaleido"
   ]
  },
  {
   "cell_type": "code",
   "execution_count": null,
   "id": "00d61947",
   "metadata": {},
   "outputs": [],
   "source": [
    "# No scientific notation\n",
    "\n",
    "pd.set_option('display.float_format', '{:.4f}'.format)"
   ]
  },
  {
   "cell_type": "code",
   "execution_count": 4,
   "id": "4e5b146f",
   "metadata": {},
   "outputs": [
    {
     "data": {
      "text/plain": [
       "(2880, 981)"
      ]
     },
     "execution_count": 4,
     "metadata": {},
     "output_type": "execute_result"
    }
   ],
   "source": [
    "## Read in tab-delimited file\n",
    "\n",
    "    # UCT_FINAL_CLEAN.tab\n",
    "\n",
    "df = pd.read_csv('UCT_FINAL_CLEAN.tab', sep='\\t')\n",
    "\n",
    "df.shape\n"
   ]
  },
  {
   "cell_type": "code",
   "execution_count": 5,
   "id": "b4bdb375",
   "metadata": {},
   "outputs": [],
   "source": [
    "## Disable (and reset default) truncation\n",
    "\n",
    "# Set max column width to None\n",
    "pd.set_option('display.max_colwidth', None)\n",
    "\n",
    "# Reset column width to default (typically 50 characters)\n",
    "# pd.reset_option('display.max_colwidth')\n"
   ]
  },
  {
   "cell_type": "code",
   "execution_count": 6,
   "id": "fcd62697",
   "metadata": {},
   "outputs": [
    {
     "name": "stdout",
     "output_type": "stream",
     "text": [
      "1. 'psy_index_z1' is at position 114\n",
      "2. 'psy_index_z0' is at position 111\n",
      "3. 'psy_index_z_miss0' is at position 113\n",
      "4. 'psy_index_z_full0' is at position 112\n",
      "5. 'ed_index1' is at position 110\n"
     ]
    }
   ],
   "source": [
    "## Fuzzy match for column names, top 5 ('difflab' library)\n",
    "\n",
    "column_name = 'psy_index'\n",
    "matches = difflib.get_close_matches(column_name, df.columns, n=5, cutoff=0.4)\n",
    "\n",
    "if matches:\n",
    "    for i, match in enumerate(matches, 1):\n",
    "        index = df.columns.get_loc(match)\n",
    "        print(f\"{i}. '{match}' is at position {index}\")\n",
    "else:\n",
    "    print(\"No close matches found.\")"
   ]
  },
  {
   "cell_type": "code",
   "execution_count": 7,
   "id": "95a37257",
   "metadata": {},
   "outputs": [],
   "source": [
    "## slim dataset\n",
    "\n",
    "dfs = df.iloc[:, np.r_[\n",
    "    0:8,        # slice from col 0 to 7\n",
    "    13:17,\n",
    "    111,\n",
    "    113:115\n",
    "]].copy()\n"
   ]
  },
  {
   "cell_type": "code",
   "execution_count": 8,
   "id": "0e0a1c3c",
   "metadata": {},
   "outputs": [
    {
     "data": {
      "text/plain": [
       "Index(['surveyid', 'femaleres', 'maleres', 'village', 'treat', 'spillover',\n",
       "       'purecontrol', 'control_village', 'treatXlump', 'treatXmonthly',\n",
       "       'treatXlarge', 'treatXsmall', 'psy_index_z0', 'psy_index_z_miss0',\n",
       "       'psy_index_z1'],\n",
       "      dtype='object')"
      ]
     },
     "execution_count": 8,
     "metadata": {},
     "output_type": "execute_result"
    }
   ],
   "source": [
    "dfs.columns"
   ]
  },
  {
   "cell_type": "code",
   "execution_count": 9,
   "id": "92bed539",
   "metadata": {},
   "outputs": [],
   "source": [
    "## Set all the data types individually\n",
    "\n",
    "dtype_map = {\n",
    "    'surveyid': 'object',\n",
    "    'femaleres': 'Int64',\n",
    "    'maleres': 'Int64',\n",
    "    'village': 'Int64',\n",
    "    'treat': 'Int64',\n",
    "    'spillover': 'Int64',\n",
    "    'purecontrol': 'Int64',\n",
    "    'control_village': 'Int64',\n",
    "    'treatXlump': 'Int64',\n",
    "    'treatXmonthly': 'Int64',\n",
    "    'treatXlarge': 'Int64',\n",
    "    'treatXsmall': 'Int64',\n",
    "    'psy_index_z0': 'float',\n",
    "    'psy_index_z_miss0': 'Int64',\n",
    "    'psy_index_z1': 'float'\n",
    "}\n",
    "\n",
    "for col, dtype in dtype_map.items():\n",
    "    dfs[col] = dfs[col].astype(dtype)\n"
   ]
  },
  {
   "cell_type": "code",
   "execution_count": 10,
   "id": "ded0f023",
   "metadata": {},
   "outputs": [
    {
     "name": "stdout",
     "output_type": "stream",
     "text": [
      "Pure Control | Female: total=432, with Δ=0\n",
      "Pure Control | Male: total=432, with Δ=0\n",
      "Spillover Control | Female: total=505, with Δ=384\n",
      "Spillover Control | Male: total=505, with Δ=272\n",
      "Small Transfer | Female: total=366, with Δ=278\n",
      "Small Transfer | Male: total=366, with Δ=190\n",
      "Lump Sum | Female: total=245, with Δ=190\n",
      "Lump Sum | Male: total=245, with Δ=134\n",
      "Monthly | Female: total=258, with Δ=193\n",
      "Monthly | Male: total=258, with Δ=140\n",
      "Large Transfer | Female: total=137, with Δ=105\n",
      "Large Transfer | Male: total=137, with Δ=84\n"
     ]
    }
   ],
   "source": [
    "## 'purecontrol' does not have baseline measurements for 'psy_index_z0'\n",
    "\n",
    "# Define treatment group conditions (non-exclusive)\n",
    "group_defs = {\n",
    "    'Pure Control': dfs['purecontrol']==1,\n",
    "    'Spillover Control': (dfs['treat'] == 0) & (dfs['purecontrol'] == 0),\n",
    "    'Small Transfer': dfs['treatXsmall'] == 1,\n",
    "    'Lump Sum': dfs['treatXlump'] == 1,\n",
    "    'Monthly': dfs['treatXmonthly'] == 1,\n",
    "    'Large Transfer': dfs['treatXlarge'] == 1\n",
    "}\n",
    "\n",
    "# Compute change in psychological wellbeing (delta)\n",
    "dfs['delta_psy_index'] = dfs['psy_index_z1'] - dfs['psy_index_z0']\n",
    "\n",
    "# check for value counts in each group\n",
    "for group, condition in group_defs.items():\n",
    "    for gender_label, gender_col in [('Female', 'femaleres'), ('Male', 'maleres')]:\n",
    "        mask = condition & (dfs[gender_col] == 1)\n",
    "        n_total = mask.sum()\n",
    "        n_nonnull = dfs.loc[mask, 'delta_psy_index'].notnull().sum()\n",
    "        print(f\"{group} | {gender_label}: total={n_total}, with Δ={n_nonnull}\")\n"
   ]
  },
  {
   "cell_type": "code",
   "execution_count": 11,
   "id": "8b5c89d1",
   "metadata": {},
   "outputs": [
    {
     "data": {
      "text/html": [
       "<div>\n",
       "<style scoped>\n",
       "    .dataframe tbody tr th:only-of-type {\n",
       "        vertical-align: middle;\n",
       "    }\n",
       "\n",
       "    .dataframe tbody tr th {\n",
       "        vertical-align: top;\n",
       "    }\n",
       "\n",
       "    .dataframe thead th {\n",
       "        text-align: right;\n",
       "    }\n",
       "</style>\n",
       "<table border=\"1\" class=\"dataframe\">\n",
       "  <thead>\n",
       "    <tr style=\"text-align: right;\">\n",
       "      <th></th>\n",
       "      <th>Group</th>\n",
       "      <th>Gender</th>\n",
       "      <th>Delta</th>\n",
       "    </tr>\n",
       "  </thead>\n",
       "  <tbody>\n",
       "    <tr>\n",
       "      <th>0</th>\n",
       "      <td>Spillover Control</td>\n",
       "      <td>Female</td>\n",
       "      <td>-0.035900</td>\n",
       "    </tr>\n",
       "    <tr>\n",
       "      <th>1</th>\n",
       "      <td>Spillover Control</td>\n",
       "      <td>Male</td>\n",
       "      <td>0.002100</td>\n",
       "    </tr>\n",
       "    <tr>\n",
       "      <th>2</th>\n",
       "      <td>Small Transfer</td>\n",
       "      <td>Female</td>\n",
       "      <td>0.142500</td>\n",
       "    </tr>\n",
       "    <tr>\n",
       "      <th>3</th>\n",
       "      <td>Small Transfer</td>\n",
       "      <td>Male</td>\n",
       "      <td>0.339400</td>\n",
       "    </tr>\n",
       "    <tr>\n",
       "      <th>4</th>\n",
       "      <td>Lump Sum</td>\n",
       "      <td>Female</td>\n",
       "      <td>0.166500</td>\n",
       "    </tr>\n",
       "    <tr>\n",
       "      <th>5</th>\n",
       "      <td>Lump Sum</td>\n",
       "      <td>Male</td>\n",
       "      <td>0.427000</td>\n",
       "    </tr>\n",
       "    <tr>\n",
       "      <th>6</th>\n",
       "      <td>Monthly</td>\n",
       "      <td>Female</td>\n",
       "      <td>0.196100</td>\n",
       "    </tr>\n",
       "    <tr>\n",
       "      <th>7</th>\n",
       "      <td>Monthly</td>\n",
       "      <td>Male</td>\n",
       "      <td>0.281600</td>\n",
       "    </tr>\n",
       "    <tr>\n",
       "      <th>8</th>\n",
       "      <td>Large Transfer</td>\n",
       "      <td>Female</td>\n",
       "      <td>0.284500</td>\n",
       "    </tr>\n",
       "    <tr>\n",
       "      <th>9</th>\n",
       "      <td>Large Transfer</td>\n",
       "      <td>Male</td>\n",
       "      <td>0.382700</td>\n",
       "    </tr>\n",
       "  </tbody>\n",
       "</table>\n",
       "</div>"
      ],
      "text/plain": [
       "               Group  Gender     Delta\n",
       "0  Spillover Control  Female -0.035900\n",
       "1  Spillover Control    Male  0.002100\n",
       "2     Small Transfer  Female  0.142500\n",
       "3     Small Transfer    Male  0.339400\n",
       "4           Lump Sum  Female  0.166500\n",
       "5           Lump Sum    Male  0.427000\n",
       "6            Monthly  Female  0.196100\n",
       "7            Monthly    Male  0.281600\n",
       "8     Large Transfer  Female  0.284500\n",
       "9     Large Transfer    Male  0.382700"
      ]
     },
     "execution_count": 11,
     "metadata": {},
     "output_type": "execute_result"
    }
   ],
   "source": [
    "## Defining 'summary_delta' as input data to graphic\n",
    "\n",
    "# Compute change in psychological wellbeing (delta)\n",
    "dfs['delta_psy_index'] = dfs['psy_index_z1'] - dfs['psy_index_z0']\n",
    "\n",
    "avg_delta = dfs['delta_psy_index'].mean().round(4)\n",
    "avg_delta_fem = dfs.loc[dfs['femaleres']==1, 'delta_psy_index'].mean().round(4)\n",
    "avg_delta_male = dfs.loc[dfs['maleres']==1, 'delta_psy_index'].mean().round(4)\n",
    "\n",
    "\n",
    "# Re-define treatment group conditions (non-exclusive)\n",
    "group_defs = {\n",
    "    'Spillover Control': (dfs['treat'] == 0) & (dfs['purecontrol'] == 0),\n",
    "    'Small Transfer': dfs['treatXsmall'] == 1,\n",
    "    'Lump Sum': dfs['treatXlump'] == 1,\n",
    "    'Monthly': dfs['treatXmonthly'] == 1,\n",
    "    'Large Transfer': dfs['treatXlarge'] == 1\n",
    "}\n",
    "\n",
    "\n",
    "# Summarize average delta by group and gender\n",
    "records = []\n",
    "for group, condition in group_defs.items():\n",
    "    for gender_label, gender_col in [('Female', 'femaleres'), ('Male', 'maleres')]:\n",
    "        mask = condition & (dfs[gender_col] == 1)\n",
    "        delta_mean = dfs.loc[mask, 'delta_psy_index'].dropna().mean()\n",
    "        records.append({'Group': group, 'Gender': gender_label, 'Delta': delta_mean})\n",
    "\n",
    "summary_delta = pd.DataFrame(records)\n",
    "\n",
    "\n",
    "# Round delta values and sort groups by average delta\n",
    "summary_delta['Delta'] = summary_delta['Delta'].round(4)\n",
    "\n",
    "group_order = (\n",
    "    summary_delta[summary_delta['Gender'] == 'Female']\n",
    "    .sort_values(by='Delta')['Group']\n",
    "    .tolist()\n",
    ")\n",
    "summary_delta\n"
   ]
  },
  {
   "cell_type": "code",
   "execution_count": 12,
   "id": "f21b745d",
   "metadata": {},
   "outputs": [
    {
     "name": "stdout",
     "output_type": "stream",
     "text": [
      "-0.0359\n",
      "0.0021\n"
     ]
    }
   ],
   "source": [
    "## Double check 'spillover' control group by gender\n",
    "\n",
    "print((\n",
    "    dfs.loc[(dfs['spillover'] == 1) & (dfs['femaleres'] == 1), 'psy_index_z1']\n",
    "    - dfs.loc[(dfs['spillover'] == 1) & (dfs['femaleres'] == 1), 'psy_index_z0']\n",
    ").mean().round(4))\n",
    "\n",
    "print((\n",
    "    dfs.loc[(dfs['spillover'] == 1) & (dfs['maleres'] == 1), 'psy_index_z1']\n",
    "    - dfs.loc[(dfs['spillover'] == 1) & (dfs['maleres'] == 1), 'psy_index_z0']\n",
    ").mean().round(4))\n"
   ]
  },
  {
   "cell_type": "code",
   "execution_count": 13,
   "id": "099810fd",
   "metadata": {},
   "outputs": [
    {
     "data": {
      "text/html": [
       "<div>\n",
       "<style scoped>\n",
       "    .dataframe tbody tr th:only-of-type {\n",
       "        vertical-align: middle;\n",
       "    }\n",
       "\n",
       "    .dataframe tbody tr th {\n",
       "        vertical-align: top;\n",
       "    }\n",
       "\n",
       "    .dataframe thead th {\n",
       "        text-align: right;\n",
       "    }\n",
       "</style>\n",
       "<table border=\"1\" class=\"dataframe\">\n",
       "  <thead>\n",
       "    <tr style=\"text-align: right;\">\n",
       "      <th></th>\n",
       "      <th>Group</th>\n",
       "      <th>Gender</th>\n",
       "      <th>Delta</th>\n",
       "      <th>Percentile_Gain</th>\n",
       "      <th>Delta_Display</th>\n",
       "    </tr>\n",
       "  </thead>\n",
       "  <tbody>\n",
       "    <tr>\n",
       "      <th>0</th>\n",
       "      <td>Spillover Control</td>\n",
       "      <td>Female</td>\n",
       "      <td>-0.035900</td>\n",
       "      <td>-1.4 pp</td>\n",
       "      <td>-0.0359</td>\n",
       "    </tr>\n",
       "    <tr>\n",
       "      <th>1</th>\n",
       "      <td>Spillover Control</td>\n",
       "      <td>Male</td>\n",
       "      <td>0.002100</td>\n",
       "      <td>+0.1 pp</td>\n",
       "      <td>0.0021</td>\n",
       "    </tr>\n",
       "    <tr>\n",
       "      <th>2</th>\n",
       "      <td>Small Transfer</td>\n",
       "      <td>Female</td>\n",
       "      <td>0.142500</td>\n",
       "      <td>+5.7 pp</td>\n",
       "      <td>0.1425</td>\n",
       "    </tr>\n",
       "    <tr>\n",
       "      <th>3</th>\n",
       "      <td>Small Transfer</td>\n",
       "      <td>Male</td>\n",
       "      <td>0.339400</td>\n",
       "      <td>+13.3 pp</td>\n",
       "      <td>0.3394</td>\n",
       "    </tr>\n",
       "    <tr>\n",
       "      <th>4</th>\n",
       "      <td>Lump Sum</td>\n",
       "      <td>Female</td>\n",
       "      <td>0.166500</td>\n",
       "      <td>+6.6 pp</td>\n",
       "      <td>0.1665</td>\n",
       "    </tr>\n",
       "    <tr>\n",
       "      <th>5</th>\n",
       "      <td>Lump Sum</td>\n",
       "      <td>Male</td>\n",
       "      <td>0.427000</td>\n",
       "      <td>+16.5 pp</td>\n",
       "      <td>0.4270</td>\n",
       "    </tr>\n",
       "    <tr>\n",
       "      <th>6</th>\n",
       "      <td>Monthly</td>\n",
       "      <td>Female</td>\n",
       "      <td>0.196100</td>\n",
       "      <td>+7.8 pp</td>\n",
       "      <td>0.1961</td>\n",
       "    </tr>\n",
       "    <tr>\n",
       "      <th>7</th>\n",
       "      <td>Monthly</td>\n",
       "      <td>Male</td>\n",
       "      <td>0.281600</td>\n",
       "      <td>+11.1 pp</td>\n",
       "      <td>0.2816</td>\n",
       "    </tr>\n",
       "    <tr>\n",
       "      <th>8</th>\n",
       "      <td>Large Transfer</td>\n",
       "      <td>Female</td>\n",
       "      <td>0.284500</td>\n",
       "      <td>+11.2 pp</td>\n",
       "      <td>0.2845</td>\n",
       "    </tr>\n",
       "    <tr>\n",
       "      <th>9</th>\n",
       "      <td>Large Transfer</td>\n",
       "      <td>Male</td>\n",
       "      <td>0.382700</td>\n",
       "      <td>+14.9 pp</td>\n",
       "      <td>0.3827</td>\n",
       "    </tr>\n",
       "  </tbody>\n",
       "</table>\n",
       "</div>"
      ],
      "text/plain": [
       "               Group  Gender     Delta Percentile_Gain Delta_Display\n",
       "0  Spillover Control  Female -0.035900         -1.4 pp       -0.0359\n",
       "1  Spillover Control    Male  0.002100         +0.1 pp        0.0021\n",
       "2     Small Transfer  Female  0.142500         +5.7 pp        0.1425\n",
       "3     Small Transfer    Male  0.339400        +13.3 pp        0.3394\n",
       "4           Lump Sum  Female  0.166500         +6.6 pp        0.1665\n",
       "5           Lump Sum    Male  0.427000        +16.5 pp        0.4270\n",
       "6            Monthly  Female  0.196100         +7.8 pp        0.1961\n",
       "7            Monthly    Male  0.281600        +11.1 pp        0.2816\n",
       "8     Large Transfer  Female  0.284500        +11.2 pp        0.2845\n",
       "9     Large Transfer    Male  0.382700        +14.9 pp        0.3827"
      ]
     },
     "execution_count": 13,
     "metadata": {},
     "output_type": "execute_result"
    }
   ],
   "source": [
    "## Interpreting z-scores as percentile shifts (from scipy.stats import norm)\n",
    "\n",
    "# Start at 50th percentile (z=0), then shift by delta\n",
    "summary_delta['Percentile_Gain'] = summary_delta['Delta'].apply(\n",
    "    lambda z: round((norm.cdf(z) - 0.5) * 100, 1)\n",
    ")\n",
    "\n",
    "# Clean up decimal places\n",
    "summary_delta['Percentile_Gain'] = summary_delta['Percentile_Gain'].apply(lambda x: f\"{x:+.1f} pp\")\n",
    "summary_delta['Delta_Display'] = summary_delta['Delta'].apply(lambda x: f\"{x:.4f}\")\n",
    "\n",
    "summary_delta"
   ]
  },
  {
   "cell_type": "code",
   "execution_count": 14,
   "id": "2ade0a46",
   "metadata": {},
   "outputs": [],
   "source": [
    "# Export summary_delta csv\n",
    "\n",
    "summary_delta.to_csv(\"summary_delta.csv\", index=False, encoding='utf-8')\n"
   ]
  },
  {
   "cell_type": "code",
   "execution_count": 15,
   "id": "1b47ec2e",
   "metadata": {},
   "outputs": [
    {
     "data": {
      "application/vnd.plotly.v1+json": {
       "config": {
        "plotlyServerURL": "https://plot.ly"
       },
       "data": [
        {
         "alignmentgroup": "True",
         "customdata": [
          [
           "Female",
           "-0.0359",
           "-1.4 pp"
          ],
          [
           "Female",
           "0.1425",
           "+5.7 pp"
          ],
          [
           "Female",
           "0.1665",
           "+6.6 pp"
          ],
          [
           "Female",
           "0.1961",
           "+7.8 pp"
          ],
          [
           "Female",
           "0.2845",
           "+11.2 pp"
          ]
         ],
         "hovertemplate": "<b>Group:</b> %{y}<br><b>Gender:</b> %{customdata[0]}<br><b>Δ z-score:</b> %{customdata[1]}<br><b>Approx. Percentile Gain:</b> %{customdata[2]}<extra></extra>",
         "legendgroup": "Female",
         "marker": {
          "color": "#D4AF37",
          "pattern": {
           "shape": ""
          }
         },
         "name": "Female",
         "offsetgroup": "Female",
         "orientation": "h",
         "showlegend": true,
         "textposition": "auto",
         "type": "bar",
         "x": {
          "bdata": "GlHaG3xhor89CtejcD3CPx1aZDvfT8U/0m9fB84ZyT9oke18PzXSPw==",
          "dtype": "f8"
         },
         "xaxis": "x",
         "y": [
          "Spillover Control",
          "Small Transfer",
          "Lump Sum",
          "Monthly",
          "Large Transfer"
         ],
         "yaxis": "y"
        },
        {
         "alignmentgroup": "True",
         "customdata": [
          [
           "Male",
           "0.0021",
           "+0.1 pp"
          ],
          [
           "Male",
           "0.3394",
           "+13.3 pp"
          ],
          [
           "Male",
           "0.4270",
           "+16.5 pp"
          ],
          [
           "Male",
           "0.2816",
           "+11.1 pp"
          ],
          [
           "Male",
           "0.3827",
           "+14.9 pp"
          ]
         ],
         "hovertemplate": "<b>Group:</b> %{y}<br><b>Gender:</b> %{customdata[0]}<br><b>Δ z-score:</b> %{customdata[1]}<br><b>Approx. Percentile Gain:</b> %{customdata[2]}<extra></extra>",
         "legendgroup": "Male",
         "marker": {
          "color": "#2E5E4E",
          "pattern": {
           "shape": ""
          }
         },
         "name": "Male",
         "offsetgroup": "Male",
         "orientation": "h",
         "showlegend": true,
         "textposition": "auto",
         "type": "bar",
         "x": {
          "bdata": "FYxK6gQ0YT8pyxDHurjVP4cW2c73U9s/L26jAbwF0j8DeAskKH7YPw==",
          "dtype": "f8"
         },
         "xaxis": "x",
         "y": [
          "Spillover Control",
          "Small Transfer",
          "Lump Sum",
          "Monthly",
          "Large Transfer"
         ],
         "yaxis": "y"
        }
       ],
       "layout": {
        "annotations": [
         {
          "font": {
           "color": "#8C8C8C",
           "size": 11
          },
          "showarrow": false,
          "text": "Avg Δ = 0.1164",
          "x": 0.1164,
          "xanchor": "center",
          "xref": "x",
          "y": 1,
          "yanchor": "bottom",
          "yref": "y domain"
         },
         {
          "align": "center",
          "font": {
           "color": "#000000",
           "family": "Source Sans Pro",
           "size": 14
          },
          "showarrow": false,
          "text": "Note: A z-score change of 0.25 corresponds to a shift from the 50th to roughly the 60th percentile in psychological wellbeing.",
          "x": 0.5,
          "xanchor": "center",
          "xref": "paper",
          "y": -0.245,
          "yref": "paper"
         },
         {
          "align": "left",
          "bgcolor": "rgba(255,255,255,0)",
          "bordercolor": "rgba(0,0,0,0.1)",
          "borderwidth": 0,
          "font": {
           "color": "#000000",
           "family": "Source Sans Pro",
           "size": 12
          },
          "showarrow": false,
          "text": "<b>Source:</b> Haushofer <br>& Shapiro (2017),<br><a href='https://doi.org/10.7910/DVN/M2GAZN' target='_blank'>Harvard Dataverse</a>",
          "x": 1.0125,
          "xanchor": "left",
          "xref": "paper",
          "y": 0.5,
          "yref": "paper"
         }
        ],
        "bargap": 0.3,
        "barmode": "group",
        "font": {
         "color": "#000000"
        },
        "height": 525,
        "legend": {
         "font": {
          "color": "#000000",
          "family": "Source Sans Pro",
          "size": 13
         },
         "title": {
          "font": {
           "color": "#000000",
           "family": "Source Sans Pro",
           "size": 13
          },
          "text": "<b>Gender</b>"
         },
         "tracegroupgap": 0
        },
        "margin": {
         "b": 140,
         "l": 80,
         "r": 100,
         "t": 100
        },
        "paper_bgcolor": "white",
        "plot_bgcolor": "white",
        "shapes": [
         {
          "line": {
           "color": "#8C8C8C",
           "dash": "dash",
           "width": 1.5
          },
          "type": "line",
          "x0": 0.1164,
          "x1": 0.1164,
          "xref": "x",
          "y0": 0,
          "y1": 1,
          "yref": "y domain"
         }
        ],
        "template": {
         "data": {
          "bar": [
           {
            "error_x": {
             "color": "#2a3f5f"
            },
            "error_y": {
             "color": "#2a3f5f"
            },
            "marker": {
             "line": {
              "color": "#E5ECF6",
              "width": 0.5
             },
             "pattern": {
              "fillmode": "overlay",
              "size": 10,
              "solidity": 0.2
             }
            },
            "type": "bar"
           }
          ],
          "barpolar": [
           {
            "marker": {
             "line": {
              "color": "#E5ECF6",
              "width": 0.5
             },
             "pattern": {
              "fillmode": "overlay",
              "size": 10,
              "solidity": 0.2
             }
            },
            "type": "barpolar"
           }
          ],
          "carpet": [
           {
            "aaxis": {
             "endlinecolor": "#2a3f5f",
             "gridcolor": "white",
             "linecolor": "white",
             "minorgridcolor": "white",
             "startlinecolor": "#2a3f5f"
            },
            "baxis": {
             "endlinecolor": "#2a3f5f",
             "gridcolor": "white",
             "linecolor": "white",
             "minorgridcolor": "white",
             "startlinecolor": "#2a3f5f"
            },
            "type": "carpet"
           }
          ],
          "choropleth": [
           {
            "colorbar": {
             "outlinewidth": 0,
             "ticks": ""
            },
            "type": "choropleth"
           }
          ],
          "contour": [
           {
            "colorbar": {
             "outlinewidth": 0,
             "ticks": ""
            },
            "colorscale": [
             [
              0,
              "#0d0887"
             ],
             [
              0.1111111111111111,
              "#46039f"
             ],
             [
              0.2222222222222222,
              "#7201a8"
             ],
             [
              0.3333333333333333,
              "#9c179e"
             ],
             [
              0.4444444444444444,
              "#bd3786"
             ],
             [
              0.5555555555555556,
              "#d8576b"
             ],
             [
              0.6666666666666666,
              "#ed7953"
             ],
             [
              0.7777777777777778,
              "#fb9f3a"
             ],
             [
              0.8888888888888888,
              "#fdca26"
             ],
             [
              1,
              "#f0f921"
             ]
            ],
            "type": "contour"
           }
          ],
          "contourcarpet": [
           {
            "colorbar": {
             "outlinewidth": 0,
             "ticks": ""
            },
            "type": "contourcarpet"
           }
          ],
          "heatmap": [
           {
            "colorbar": {
             "outlinewidth": 0,
             "ticks": ""
            },
            "colorscale": [
             [
              0,
              "#0d0887"
             ],
             [
              0.1111111111111111,
              "#46039f"
             ],
             [
              0.2222222222222222,
              "#7201a8"
             ],
             [
              0.3333333333333333,
              "#9c179e"
             ],
             [
              0.4444444444444444,
              "#bd3786"
             ],
             [
              0.5555555555555556,
              "#d8576b"
             ],
             [
              0.6666666666666666,
              "#ed7953"
             ],
             [
              0.7777777777777778,
              "#fb9f3a"
             ],
             [
              0.8888888888888888,
              "#fdca26"
             ],
             [
              1,
              "#f0f921"
             ]
            ],
            "type": "heatmap"
           }
          ],
          "histogram": [
           {
            "marker": {
             "pattern": {
              "fillmode": "overlay",
              "size": 10,
              "solidity": 0.2
             }
            },
            "type": "histogram"
           }
          ],
          "histogram2d": [
           {
            "colorbar": {
             "outlinewidth": 0,
             "ticks": ""
            },
            "colorscale": [
             [
              0,
              "#0d0887"
             ],
             [
              0.1111111111111111,
              "#46039f"
             ],
             [
              0.2222222222222222,
              "#7201a8"
             ],
             [
              0.3333333333333333,
              "#9c179e"
             ],
             [
              0.4444444444444444,
              "#bd3786"
             ],
             [
              0.5555555555555556,
              "#d8576b"
             ],
             [
              0.6666666666666666,
              "#ed7953"
             ],
             [
              0.7777777777777778,
              "#fb9f3a"
             ],
             [
              0.8888888888888888,
              "#fdca26"
             ],
             [
              1,
              "#f0f921"
             ]
            ],
            "type": "histogram2d"
           }
          ],
          "histogram2dcontour": [
           {
            "colorbar": {
             "outlinewidth": 0,
             "ticks": ""
            },
            "colorscale": [
             [
              0,
              "#0d0887"
             ],
             [
              0.1111111111111111,
              "#46039f"
             ],
             [
              0.2222222222222222,
              "#7201a8"
             ],
             [
              0.3333333333333333,
              "#9c179e"
             ],
             [
              0.4444444444444444,
              "#bd3786"
             ],
             [
              0.5555555555555556,
              "#d8576b"
             ],
             [
              0.6666666666666666,
              "#ed7953"
             ],
             [
              0.7777777777777778,
              "#fb9f3a"
             ],
             [
              0.8888888888888888,
              "#fdca26"
             ],
             [
              1,
              "#f0f921"
             ]
            ],
            "type": "histogram2dcontour"
           }
          ],
          "mesh3d": [
           {
            "colorbar": {
             "outlinewidth": 0,
             "ticks": ""
            },
            "type": "mesh3d"
           }
          ],
          "parcoords": [
           {
            "line": {
             "colorbar": {
              "outlinewidth": 0,
              "ticks": ""
             }
            },
            "type": "parcoords"
           }
          ],
          "pie": [
           {
            "automargin": true,
            "type": "pie"
           }
          ],
          "scatter": [
           {
            "fillpattern": {
             "fillmode": "overlay",
             "size": 10,
             "solidity": 0.2
            },
            "type": "scatter"
           }
          ],
          "scatter3d": [
           {
            "line": {
             "colorbar": {
              "outlinewidth": 0,
              "ticks": ""
             }
            },
            "marker": {
             "colorbar": {
              "outlinewidth": 0,
              "ticks": ""
             }
            },
            "type": "scatter3d"
           }
          ],
          "scattercarpet": [
           {
            "marker": {
             "colorbar": {
              "outlinewidth": 0,
              "ticks": ""
             }
            },
            "type": "scattercarpet"
           }
          ],
          "scattergeo": [
           {
            "marker": {
             "colorbar": {
              "outlinewidth": 0,
              "ticks": ""
             }
            },
            "type": "scattergeo"
           }
          ],
          "scattergl": [
           {
            "marker": {
             "colorbar": {
              "outlinewidth": 0,
              "ticks": ""
             }
            },
            "type": "scattergl"
           }
          ],
          "scattermap": [
           {
            "marker": {
             "colorbar": {
              "outlinewidth": 0,
              "ticks": ""
             }
            },
            "type": "scattermap"
           }
          ],
          "scattermapbox": [
           {
            "marker": {
             "colorbar": {
              "outlinewidth": 0,
              "ticks": ""
             }
            },
            "type": "scattermapbox"
           }
          ],
          "scatterpolar": [
           {
            "marker": {
             "colorbar": {
              "outlinewidth": 0,
              "ticks": ""
             }
            },
            "type": "scatterpolar"
           }
          ],
          "scatterpolargl": [
           {
            "marker": {
             "colorbar": {
              "outlinewidth": 0,
              "ticks": ""
             }
            },
            "type": "scatterpolargl"
           }
          ],
          "scatterternary": [
           {
            "marker": {
             "colorbar": {
              "outlinewidth": 0,
              "ticks": ""
             }
            },
            "type": "scatterternary"
           }
          ],
          "surface": [
           {
            "colorbar": {
             "outlinewidth": 0,
             "ticks": ""
            },
            "colorscale": [
             [
              0,
              "#0d0887"
             ],
             [
              0.1111111111111111,
              "#46039f"
             ],
             [
              0.2222222222222222,
              "#7201a8"
             ],
             [
              0.3333333333333333,
              "#9c179e"
             ],
             [
              0.4444444444444444,
              "#bd3786"
             ],
             [
              0.5555555555555556,
              "#d8576b"
             ],
             [
              0.6666666666666666,
              "#ed7953"
             ],
             [
              0.7777777777777778,
              "#fb9f3a"
             ],
             [
              0.8888888888888888,
              "#fdca26"
             ],
             [
              1,
              "#f0f921"
             ]
            ],
            "type": "surface"
           }
          ],
          "table": [
           {
            "cells": {
             "fill": {
              "color": "#EBF0F8"
             },
             "line": {
              "color": "white"
             }
            },
            "header": {
             "fill": {
              "color": "#C8D4E3"
             },
             "line": {
              "color": "white"
             }
            },
            "type": "table"
           }
          ]
         },
         "layout": {
          "annotationdefaults": {
           "arrowcolor": "#2a3f5f",
           "arrowhead": 0,
           "arrowwidth": 1
          },
          "autotypenumbers": "strict",
          "coloraxis": {
           "colorbar": {
            "outlinewidth": 0,
            "ticks": ""
           }
          },
          "colorscale": {
           "diverging": [
            [
             0,
             "#8e0152"
            ],
            [
             0.1,
             "#c51b7d"
            ],
            [
             0.2,
             "#de77ae"
            ],
            [
             0.3,
             "#f1b6da"
            ],
            [
             0.4,
             "#fde0ef"
            ],
            [
             0.5,
             "#f7f7f7"
            ],
            [
             0.6,
             "#e6f5d0"
            ],
            [
             0.7,
             "#b8e186"
            ],
            [
             0.8,
             "#7fbc41"
            ],
            [
             0.9,
             "#4d9221"
            ],
            [
             1,
             "#276419"
            ]
           ],
           "sequential": [
            [
             0,
             "#0d0887"
            ],
            [
             0.1111111111111111,
             "#46039f"
            ],
            [
             0.2222222222222222,
             "#7201a8"
            ],
            [
             0.3333333333333333,
             "#9c179e"
            ],
            [
             0.4444444444444444,
             "#bd3786"
            ],
            [
             0.5555555555555556,
             "#d8576b"
            ],
            [
             0.6666666666666666,
             "#ed7953"
            ],
            [
             0.7777777777777778,
             "#fb9f3a"
            ],
            [
             0.8888888888888888,
             "#fdca26"
            ],
            [
             1,
             "#f0f921"
            ]
           ],
           "sequentialminus": [
            [
             0,
             "#0d0887"
            ],
            [
             0.1111111111111111,
             "#46039f"
            ],
            [
             0.2222222222222222,
             "#7201a8"
            ],
            [
             0.3333333333333333,
             "#9c179e"
            ],
            [
             0.4444444444444444,
             "#bd3786"
            ],
            [
             0.5555555555555556,
             "#d8576b"
            ],
            [
             0.6666666666666666,
             "#ed7953"
            ],
            [
             0.7777777777777778,
             "#fb9f3a"
            ],
            [
             0.8888888888888888,
             "#fdca26"
            ],
            [
             1,
             "#f0f921"
            ]
           ]
          },
          "colorway": [
           "#636efa",
           "#EF553B",
           "#00cc96",
           "#ab63fa",
           "#FFA15A",
           "#19d3f3",
           "#FF6692",
           "#B6E880",
           "#FF97FF",
           "#FECB52"
          ],
          "font": {
           "color": "#2a3f5f"
          },
          "geo": {
           "bgcolor": "white",
           "lakecolor": "white",
           "landcolor": "#E5ECF6",
           "showlakes": true,
           "showland": true,
           "subunitcolor": "white"
          },
          "hoverlabel": {
           "align": "left"
          },
          "hovermode": "closest",
          "mapbox": {
           "style": "light"
          },
          "paper_bgcolor": "white",
          "plot_bgcolor": "#E5ECF6",
          "polar": {
           "angularaxis": {
            "gridcolor": "white",
            "linecolor": "white",
            "ticks": ""
           },
           "bgcolor": "#E5ECF6",
           "radialaxis": {
            "gridcolor": "white",
            "linecolor": "white",
            "ticks": ""
           }
          },
          "scene": {
           "xaxis": {
            "backgroundcolor": "#E5ECF6",
            "gridcolor": "white",
            "gridwidth": 2,
            "linecolor": "white",
            "showbackground": true,
            "ticks": "",
            "zerolinecolor": "white"
           },
           "yaxis": {
            "backgroundcolor": "#E5ECF6",
            "gridcolor": "white",
            "gridwidth": 2,
            "linecolor": "white",
            "showbackground": true,
            "ticks": "",
            "zerolinecolor": "white"
           },
           "zaxis": {
            "backgroundcolor": "#E5ECF6",
            "gridcolor": "white",
            "gridwidth": 2,
            "linecolor": "white",
            "showbackground": true,
            "ticks": "",
            "zerolinecolor": "white"
           }
          },
          "shapedefaults": {
           "line": {
            "color": "#2a3f5f"
           }
          },
          "ternary": {
           "aaxis": {
            "gridcolor": "white",
            "linecolor": "white",
            "ticks": ""
           },
           "baxis": {
            "gridcolor": "white",
            "linecolor": "white",
            "ticks": ""
           },
           "bgcolor": "#E5ECF6",
           "caxis": {
            "gridcolor": "white",
            "linecolor": "white",
            "ticks": ""
           }
          },
          "title": {
           "x": 0.05
          },
          "xaxis": {
           "automargin": true,
           "gridcolor": "white",
           "linecolor": "white",
           "ticks": "",
           "title": {
            "standoff": 15
           },
           "zerolinecolor": "white",
           "zerolinewidth": 2
          },
          "yaxis": {
           "automargin": true,
           "gridcolor": "white",
           "linecolor": "white",
           "ticks": "",
           "title": {
            "standoff": 15
           },
           "zerolinecolor": "white",
           "zerolinewidth": 2
          }
         }
        },
        "title": {
         "text": "<span style='font-size:20px; color:#2E5E4E; font-family:Georgia; font-weight:bold;'>Cash That Heals</span><span style='font-size:16px; color:#2E5E4E; font-family:Georgia; font-style:italic;'>&nbsp;&nbsp;&nbsp;How unconditional cash shaped mental health, by gender and treatment group</span><br><span style='font-size:15px; color:#444444; font-family:Source Sans Pro;'>Across all transfer types, women experienced meaningful psychological gains—underscoring cash's potential to support female mental health, even when not explicitly targeted.</span>",
         "x": 0,
         "xanchor": "left"
        },
        "width": 1200,
        "xaxis": {
         "anchor": "y",
         "domain": [
          0,
          1
         ],
         "gridcolor": "#E0E0E0",
         "showgrid": true,
         "title": {
          "font": {
           "family": "Source Sans Pro",
           "size": 15
          },
          "text": "<b>Change in Psychological Wellbeing Index (Δ z-score)</b>"
         },
         "zerolinecolor": "#8C8C8C"
        },
        "yaxis": {
         "anchor": "x",
         "autorange": "reversed",
         "categoryarray": [
          "Large Transfer",
          "Monthly",
          "Lump Sum",
          "Small Transfer",
          "Spillover Control"
         ],
         "categoryorder": "array",
         "domain": [
          0,
          1
         ],
         "title": {
          "font": {
           "family": "Source Sans Pro",
           "size": 15
          },
          "text": "<b>Treatment Group</b>"
         }
        }
       }
      }
     },
     "metadata": {},
     "output_type": "display_data"
    }
   ],
   "source": [
    "## HTML interactive graphic using plotly \n",
    "# libraries: import pandas as pd; import plotly.express as px\n",
    "\n",
    "# Summary dataframe (embedded; no configuration)\n",
    "summary_delta = pd.DataFrame([\n",
    "    {\"Group\": \"Spillover Control\", \"Gender\": \"Female\", \"Delta\": -0.0359, \"Delta_Display\": \"-0.0359\", \"Percentile_Gain\": \"-1.4 pp\"},\n",
    "    {\"Group\": \"Spillover Control\", \"Gender\": \"Male\", \"Delta\": 0.0021, \"Delta_Display\": \"0.0021\", \"Percentile_Gain\": \"+0.1 pp\"},\n",
    "    {\"Group\": \"Small Transfer\", \"Gender\": \"Female\", \"Delta\": 0.1425, \"Delta_Display\": \"0.1425\", \"Percentile_Gain\": \"+5.7 pp\"},\n",
    "    {\"Group\": \"Small Transfer\", \"Gender\": \"Male\", \"Delta\": 0.3394, \"Delta_Display\": \"0.3394\", \"Percentile_Gain\": \"+13.3 pp\"},\n",
    "    {\"Group\": \"Lump Sum\", \"Gender\": \"Female\", \"Delta\": 0.1665, \"Delta_Display\": \"0.1665\", \"Percentile_Gain\": \"+6.6 pp\"},\n",
    "    {\"Group\": \"Lump Sum\", \"Gender\": \"Male\", \"Delta\": 0.4270, \"Delta_Display\": \"0.4270\", \"Percentile_Gain\": \"+16.5 pp\"},\n",
    "    {\"Group\": \"Monthly\", \"Gender\": \"Female\", \"Delta\": 0.1961, \"Delta_Display\": \"0.1961\", \"Percentile_Gain\": \"+7.8 pp\"},\n",
    "    {\"Group\": \"Monthly\", \"Gender\": \"Male\", \"Delta\": 0.2816, \"Delta_Display\": \"0.2816\", \"Percentile_Gain\": \"+11.1 pp\"},\n",
    "    {\"Group\": \"Large Transfer\", \"Gender\": \"Female\", \"Delta\": 0.2845, \"Delta_Display\": \"0.2845\", \"Percentile_Gain\": \"+11.2 pp\"},\n",
    "    {\"Group\": \"Large Transfer\", \"Gender\": \"Male\", \"Delta\": 0.3827, \"Delta_Display\": \"0.3827\", \"Percentile_Gain\": \"+14.9 pp\"}\n",
    "])\n",
    "\n",
    "\n",
    "# Create Plotly bar chart\n",
    "fig = px.bar(\n",
    "    summary_delta,\n",
    "    x='Delta',\n",
    "    y='Group',\n",
    "    color='Gender',\n",
    "    orientation='h',\n",
    "    barmode='group',\n",
    "    color_discrete_map={'Female': '#D4AF37', 'Male': '#2E5E4E'},\n",
    "    category_orders={'Group': group_order},\n",
    "    custom_data=['Gender', 'Delta_Display', 'Percentile_Gain']\n",
    ")\n",
    "\n",
    "# Layout and styling\n",
    "fig.update_layout(\n",
    "    xaxis_title=dict(\n",
    "        text='<b>Change in Psychological Wellbeing Index (Δ z-score)</b>',\n",
    "        font=dict(family='Source Sans Pro', size=15)\n",
    "    ),\n",
    "    yaxis_title=dict(\n",
    "        text='<b>Treatment Group</b>',\n",
    "        font=dict(family='Source Sans Pro', size=15)\n",
    "    ),\n",
    "    xaxis=dict(showgrid=True, gridcolor='#E0E0E0', zerolinecolor='#8C8C8C'),\n",
    "    yaxis=dict(autorange='reversed'),\n",
    "    font=dict(color='#000000'),\n",
    "    legend_title=dict(\n",
    "        text='<b>Gender</b>',\n",
    "        font=dict(family='Source Sans Pro', size=13, color='#000000')\n",
    "    ),\n",
    "    legend=dict(\n",
    "        font=dict(family='Source Sans Pro', size=13, color='#000000')\n",
    "    ),\n",
    "    plot_bgcolor='white',\n",
    "    paper_bgcolor='white',\n",
    "    bargap=0.3,\n",
    "    margin=dict(t=100, b=140, l=80, r=100),\n",
    "    width=1200,\n",
    "    height=525,\n",
    "    title=dict(\n",
    "        text=\"<span style='font-size:20px; color:#2E5E4E; font-family:Georgia; font-weight:bold;'>Cash That Heals</span>\"\n",
    "             \"<span style='font-size:16px; color:#2E5E4E; font-family:Georgia; font-style:italic;'>&nbsp;&nbsp;&nbsp;How unconditional cash shaped mental health, by gender and treatment group</span><br>\"\n",
    "             \"<span style='font-size:15px; color:#444444; font-family:Source Sans Pro;'>Across all transfer types, women experienced meaningful psychological gains—underscoring cash's potential to support female mental health, even when not explicitly targeted.</span>\",\n",
    "        x=0,\n",
    "        xanchor='left'\n",
    "    )\n",
    ")\n",
    "\n",
    "\n",
    "# Hover pop-up specification\n",
    "fig.update_traces(\n",
    "    hovertemplate=\n",
    "        \"<b>Group:</b> %{y}<br>\" +\n",
    "        \"<b>Gender:</b> %{customdata[0]}<br>\" +\n",
    "        \"<b>Δ z-score:</b> %{customdata[1]}<br>\" +\n",
    "        \"<b>Approx. Percentile Gain:</b> %{customdata[2]}<extra></extra>\"\n",
    ")\n",
    "\n",
    "\n",
    "# Add V-line delta average and interpretive footnotes and source\n",
    "fig.add_vline(\n",
    "    x=avg_delta,\n",
    "    line_dash=\"dash\",\n",
    "    line_color=\"#8C8C8C\",\n",
    "    line_width=1.5,\n",
    "    annotation_text=f\"Avg Δ = {avg_delta}\",\n",
    "    annotation_position=\"top\",\n",
    "    annotation_font=dict(size=11, color=\"#8C8C8C\")\n",
    ")\n",
    "\n",
    "fig.add_annotation(\n",
    "    text=\"Note: A z-score change of 0.25 corresponds to a shift from the 50th to roughly the 60th percentile in psychological wellbeing.\",\n",
    "    xref=\"paper\", yref=\"paper\",\n",
    "    x=0.5, y=-0.245,\n",
    "    xanchor=\"center\",\n",
    "    showarrow=False,\n",
    "    font=dict(family='Source Sans Pro', size=14, color=\"#000000\"),\n",
    "    align=\"center\"\n",
    ")\n",
    "\n",
    "fig.add_annotation(\n",
    "    text=\"<b>Source:</b> Haushofer <br>& Shapiro (2017),<br>\"\n",
    "        \"<a href='https://doi.org/10.7910/DVN/M2GAZN' target='_blank'>Harvard Dataverse</a>\",\n",
    "    xref=\"paper\", yref=\"paper\",\n",
    "    x=1.0125, y=0.5,\n",
    "    xanchor=\"left\",\n",
    "    showarrow=False,\n",
    "    align=\"left\",\n",
    "    font=dict(family='Source Sans Pro', size=12, color=\"#000000\"),\n",
    "    bordercolor=\"rgba(0,0,0,0.1)\",\n",
    "    borderwidth=0,\n",
    "    bgcolor=\"rgba(255,255,255,0)\"\n",
    ")\n",
    "\n",
    "fig.show()"
   ]
  },
  {
   "cell_type": "code",
   "execution_count": null,
   "id": "07c3aff5",
   "metadata": {},
   "outputs": [],
   "source": [
    "## export to html and print\n",
    "\n",
    "import plotly.io as pio\n",
    "\n",
    "# Inside your callback or after creating fig\n",
    "pio.write_html(fig, file=\"GD_DataViz_Ex.html\", full_html=True, include_plotlyjs=\"cdn\")"
   ]
  }
 ],
 "metadata": {
  "kernelspec": {
   "display_name": "base",
   "language": "python",
   "name": "python3"
  },
  "language_info": {
   "codemirror_mode": {
    "name": "ipython",
    "version": 3
   },
   "file_extension": ".py",
   "mimetype": "text/x-python",
   "name": "python",
   "nbconvert_exporter": "python",
   "pygments_lexer": "ipython3",
   "version": "3.11.11"
  }
 },
 "nbformat": 4,
 "nbformat_minor": 5
}
